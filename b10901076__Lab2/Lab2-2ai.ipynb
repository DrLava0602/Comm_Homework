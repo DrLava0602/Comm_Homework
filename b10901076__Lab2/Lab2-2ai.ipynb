{
 "cells": [
  {
   "cell_type": "code",
   "execution_count": 1,
   "id": "976b98af",
   "metadata": {},
   "outputs": [],
   "source": []
  },
  {
   "cell_type": "code",
   "execution_count": 2,
   "id": "984baaf8",
   "metadata": {},
   "outputs": [],
   "source": [
    "# provider = IBMProvider()\n",
    "# backend = least_busy(provider.backends(filters=lambda x:\n",
    "# x.configuration().n_qubits >= 2\n",
    "# and not x.configuration().simulator\n",
    "# and x.status().operational==True))\n",
    "# print(\"least busy backend: \", backend)"
   ]
  },
  {
   "cell_type": "code",
   "execution_count": 3,
   "id": "25bdfab0",
   "metadata": {},
   "outputs": [],
   "source": [
    "q = QuantumRegister(3)\n",
    "c = ClassicalRegister(3)"
   ]
  },
  {
   "cell_type": "code",
   "execution_count": 4,
   "id": "b12549d9",
   "metadata": {},
   "outputs": [
    {
     "data": {
      "text/html": [
       "<pre style=\"word-wrap: normal;white-space: pre;background: #fff0;line-height: 1.1;font-family: &quot;Courier New&quot;,Courier,monospace\">                 \n",
       "q0_0: ───────────\n",
       "                 \n",
       "q0_1: ───────────\n",
       "      ┌─────────┐\n",
       "q0_2: ┤ Rx(π/3) ├\n",
       "      └─────────┘\n",
       "c0: 3/═══════════\n",
       "                 </pre>"
      ],
      "text/plain": [
       "                 \n",
       "q0_0: ───────────\n",
       "                 \n",
       "q0_1: ───────────\n",
       "      ┌─────────┐\n",
       "q0_2: ┤ Rx(π/3) ├\n",
       "      └─────────┘\n",
       "c0: 3/═══════════\n",
       "                 "
      ]
     },
     "execution_count": 4,
     "metadata": {},
     "output_type": "execute_result"
    }
   ],
   "source": [
    "circuit = QuantumCircuit(q,c)\n",
    "\n",
    "#prepare target state\n",
    "circuit.rx(pi/3, q[2])\n",
    "circuit.draw()\n",
    "\n"
   ]
  },
  {
   "cell_type": "code",
   "execution_count": 5,
   "id": "65951734",
   "metadata": {},
   "outputs": [],
   "source": [
    "simulator = Aer.get_backend('statevector_simulator')\n",
    "job = execute(circuit, simulator)\n",
    "result = job.result()\n",
    "statevector0 = result.get_statevector()"
   ]
  },
  {
   "cell_type": "code",
   "execution_count": 6,
   "id": "5ca57d19",
   "metadata": {},
   "outputs": [
    {
     "data": {
      "text/html": [
       "<pre style=\"word-wrap: normal;white-space: pre;background: #fff0;line-height: 1.1;font-family: &quot;Courier New&quot;,Courier,monospace\">      ┌─────────┐                      ┌───┐┌─┐                        \n",
       "q0_0: ┤ Rx(π/3) ├───────────────────■──┤ H ├┤M├────────────────────────\n",
       "      └──┬───┬──┘                 ┌─┴─┐└┬─┬┘└╥┘                        \n",
       "q0_1: ───┤ H ├─────────────────■──┤ X ├─┤M├──╫─────────────────────────\n",
       "      ┌──┴───┴──┐┌──────────┐┌─┴─┐└───┘ └╥┘  ║    ┌───┐       ┌───┐    \n",
       "q0_2: ┤ Rx(π/3) ├┤ Rx(-π/3) ├┤ X ├───────╫───╫────┤ Z ├───────┤ X ├────\n",
       "      └─────────┘└──────────┘└───┘       ║   ║    └─╥─┘       └─╥─┘    \n",
       "                                         ║   ║ ┌────╨─────┐┌────╨─────┐\n",
       "c0: 3/═══════════════════════════════════╩═══╩═╡ c0_0=0x1 ╞╡ c0_1=0x1 ╞\n",
       "                                         1   0 └──────────┘└──────────┘</pre>"
      ],
      "text/plain": [
       "      ┌─────────┐                      ┌───┐┌─┐                        \n",
       "q0_0: ┤ Rx(π/3) ├───────────────────■──┤ H ├┤M├────────────────────────\n",
       "      └──┬───┬──┘                 ┌─┴─┐└┬─┬┘└╥┘                        \n",
       "q0_1: ───┤ H ├─────────────────■──┤ X ├─┤M├──╫─────────────────────────\n",
       "      ┌──┴───┴──┐┌──────────┐┌─┴─┐└───┘ └╥┘  ║    ┌───┐       ┌───┐    \n",
       "q0_2: ┤ Rx(π/3) ├┤ Rx(-π/3) ├┤ X ├───────╫───╫────┤ Z ├───────┤ X ├────\n",
       "      └─────────┘└──────────┘└───┘       ║   ║    └─╥─┘       └─╥─┘    \n",
       "                                         ║   ║ ┌────╨─────┐┌────╨─────┐\n",
       "c0: 3/═══════════════════════════════════╩═══╩═╡ c0_0=0x1 ╞╡ c0_1=0x1 ╞\n",
       "                                         1   0 └──────────┘└──────────┘"
      ]
     },
     "execution_count": 6,
     "metadata": {},
     "output_type": "execute_result"
    }
   ],
   "source": [
    "# circuit.h(q[0])\n",
    "\n",
    "#prepare\n",
    "circuit.rx(pi/3, q[0])\n",
    "circuit.rx(-pi/3, q[2])\n",
    "#prepare EPR pair\n",
    "circuit.h(q[1])\n",
    "circuit.cx(q[1], q[2])\n",
    "\n",
    "#measure with bell state\n",
    "circuit.cx(q[0], q[1])\n",
    "circuit.h(q[0])\n",
    "circuit.measure(q[0], c[0])\n",
    "circuit.measure(q[1], c[1])\n",
    "\n",
    "#reconstruct\n",
    "circuit.z(q[2]).c_if(c[0],1)\n",
    "circuit.x(q[2]).c_if(c[1],1)\n",
    "\n",
    "\n",
    "# circuit.rx(-pi/3, q[2])\n",
    "# circuit.h(q[2])\n",
    "# circuit.measure(q[2], c[2])\n",
    "circuit.draw()"
   ]
  },
  {
   "cell_type": "code",
   "execution_count": 9,
   "id": "4a598c51",
   "metadata": {},
   "outputs": [
    {
     "name": "stdout",
     "output_type": "stream",
     "text": [
      "(0.9999999999999999+3.061616997868382e-17j)\n"
     ]
    }
   ],
   "source": [
    "# for problem 2i\n",
    "simulator = Aer.get_backend('statevector_simulator')\n",
    "job = execute(circuit, simulator)\n",
    "result = job.result()\n",
    "statevector1 = result.get_statevector()\n",
    "inner = np.inner(statevector0, np.conjugate(statevector1))\n",
    "print(inner)"
   ]
  },
  {
   "cell_type": "code",
   "execution_count": 10,
   "id": "290954c4",
   "metadata": {},
   "outputs": [
    {
     "data": {
      "text/html": [
       "<pre style=\"word-wrap: normal;white-space: pre;background: #fff0;line-height: 1.1;font-family: &quot;Courier New&quot;,Courier,monospace\">      ┌─────────┐                      ┌───┐┌─┐                        »\n",
       "q0_0: ┤ Rx(π/3) ├───────────────────■──┤ H ├┤M├────────────────────────»\n",
       "      └──┬───┬──┘                 ┌─┴─┐└┬─┬┘└╥┘                        »\n",
       "q0_1: ───┤ H ├─────────────────■──┤ X ├─┤M├──╫─────────────────────────»\n",
       "      ┌──┴───┴──┐┌──────────┐┌─┴─┐└───┘ └╥┘  ║    ┌───┐       ┌───┐    »\n",
       "q0_2: ┤ Rx(π/3) ├┤ Rx(-π/3) ├┤ X ├───────╫───╫────┤ Z ├───────┤ X ├────»\n",
       "      └─────────┘└──────────┘└───┘       ║   ║    └─╥─┘       └─╥─┘    »\n",
       "                                         ║   ║ ┌────╨─────┐┌────╨─────┐»\n",
       "c0: 3/═══════════════════════════════════╩═══╩═╡ c0_0=0x1 ╞╡ c0_1=0x1 ╞»\n",
       "                                         1   0 └──────────┘└──────────┘»\n",
       "«                     \n",
       "«q0_0: ───────────────\n",
       "«                     \n",
       "«q0_1: ───────────────\n",
       "«      ┌──────────┐┌─┐\n",
       "«q0_2: ┤ Rx(-π/3) ├┤M├\n",
       "«      └──────────┘└╥┘\n",
       "«c0: 3/═════════════╩═\n",
       "«                   2 </pre>"
      ],
      "text/plain": [
       "      ┌─────────┐                      ┌───┐┌─┐                        »\n",
       "q0_0: ┤ Rx(π/3) ├───────────────────■──┤ H ├┤M├────────────────────────»\n",
       "      └──┬───┬──┘                 ┌─┴─┐└┬─┬┘└╥┘                        »\n",
       "q0_1: ───┤ H ├─────────────────■──┤ X ├─┤M├──╫─────────────────────────»\n",
       "      ┌──┴───┴──┐┌──────────┐┌─┴─┐└───┘ └╥┘  ║    ┌───┐       ┌───┐    »\n",
       "q0_2: ┤ Rx(π/3) ├┤ Rx(-π/3) ├┤ X ├───────╫───╫────┤ Z ├───────┤ X ├────»\n",
       "      └─────────┘└──────────┘└───┘       ║   ║    └─╥─┘       └─╥─┘    »\n",
       "                                         ║   ║ ┌────╨─────┐┌────╨─────┐»\n",
       "c0: 3/═══════════════════════════════════╩═══╩═╡ c0_0=0x1 ╞╡ c0_1=0x1 ╞»\n",
       "                                         1   0 └──────────┘└──────────┘»\n",
       "«                     \n",
       "«q0_0: ───────────────\n",
       "«                     \n",
       "«q0_1: ───────────────\n",
       "«      ┌──────────┐┌─┐\n",
       "«q0_2: ┤ Rx(-π/3) ├┤M├\n",
       "«      └──────────┘└╥┘\n",
       "«c0: 3/═════════════╩═\n",
       "«                   2 "
      ]
     },
     "execution_count": 10,
     "metadata": {},
     "output_type": "execute_result"
    }
   ],
   "source": [
    "#for problem 2ii\n",
    "circuit.rx(-pi/3, q[2])\n",
    "# circuit.h(q[2])\n",
    "circuit.measure(q[2], c[2])\n",
    "circuit.draw()"
   ]
  },
  {
   "cell_type": "code",
   "execution_count": 11,
   "id": "f1e8bf47",
   "metadata": {},
   "outputs": [
    {
     "data": {
      "image/png": "[encoded data removed]",
      "text/plain": [
       "<Figure size 700x500 with 1 Axes>"
      ]
     },
     "execution_count": 11,
     "metadata": {},
     "output_type": "execute_result"
    }
   ],
   "source": [
    "simulator = Aer.get_backend('qasm_simulator')\n",
    "job = execute(circuit, simulator, shots = 1024)\n",
    "result = job.result()\n",
    "counts = result.get_counts()\n",
    "plot_histogram(counts)"
   ]
  },
  {
   "cell_type": "code",
   "execution_count": null,
   "id": "98444a5d",
   "metadata": {},
   "outputs": [],
   "source": []
  }
 ],
 "metadata": {
  "kernelspec": {
   "display_name": "Python 3 (ipykernel)",
   "language": "python",
   "name": "python3"
  },
  "language_info": {
   "codemirror_mode": {
    "name": "ipython",
    "version": 3
   },
   "file_extension": ".py",
   "mimetype": "text/x-python",
   "name": "python",
   "nbconvert_exporter": "python",
   "pygments_lexer": "ipython3",
   "version": "3.11.4"
  }
 },
 "nbformat": 4,
 "nbformat_minor": 5
}
