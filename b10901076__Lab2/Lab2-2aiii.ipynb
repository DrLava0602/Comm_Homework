{
 "cells": [
  {
   "cell_type": "code",
   "execution_count": 1,
   "id": "bc9b6cff",
   "metadata": {},
   "outputs": [],
   "source": [
    "import qiskit\n",
    "from qiskit import *\n",
    "from qiskit import QuantumCircuit, execute, Aer\n",
    "from qiskit.quantum_info import partial_trace\n",
    "from qiskit.visualization import plot_histogram, plot_bloch_vector, plot_bloch_multivector\n",
    "from math import sqrt, pi\n",
    "from numpy.random import randint\n",
    "import numpy as np\n",
    "from qiskit import IBMQ\n",
    "from qiskit_ibm_provider import IBMProvider, least_busy\n",
    "\n",
    "apitoken = 'add822bdd7a0cf338059a6157b26e50155c5bba4fc90826592b20ff80f379a99c8aefe0e52ad3dd304ead3d46edca9af9a9c507bd0096c1c085ce7b369c8e422' #insert api token here\n",
    "\n",
    "# #for account loading\n",
    "# IBMProvider.save_account(token=apitoken)\n",
    "# IBMProvider.load_account()\n",
    "# provider = IBMProvider()\n",
    "# backend = least_busy(provider.backends(filters=lambda x:\n",
    "# x.configuration().n_qubits >= 2\n",
    "# and not x.configuration().simulator\n",
    "# and x.status().operational==True))\n",
    "# print(\"least busy backend: \", backend)\n"
   ]
  },
  {
   "cell_type": "code",
   "execution_count": 4,
   "id": "e2f16e16",
   "metadata": {},
   "outputs": [],
   "source": [
    "q = QuantumRegister(5)\n",
    "c = ClassicalRegister(3)"
   ]
  },
  {
   "cell_type": "code",
   "execution_count": 6,
   "id": "7beaa406",
   "metadata": {},
   "outputs": [
    {
     "data": {
      "text/html": [
       "<pre style=\"word-wrap: normal;white-space: pre;background: #fff0;line-height: 1.1;font-family: &quot;Courier New&quot;,Courier,monospace\">      ┌─────────┐          ┌───┐┌─┐                                        \n",
       "q1_0: ┤ Rx(π/3) ├───────■──┤ H ├┤M├────────────────────────────────────────\n",
       "      └──┬───┬──┘     ┌─┴─┐└┬─┬┘└╥┘                                        \n",
       "q1_1: ───┤ H ├─────■──┤ X ├─┤M├──╫─────────────────────────────────────────\n",
       "         └───┘   ┌─┴─┐└───┘ └╥┘  ║    ┌───┐       ┌───┐                    \n",
       "q1_2: ───────────┤ X ├───────╫───╫────┤ Z ├───────┤ X ├─────X──────────────\n",
       "      ┌─────────┐└───┘       ║   ║    └─╥─┘       └─╥─┘     │              \n",
       "q1_3: ┤ Rx(π/3) ├────────────╫───╫──────╫───────────╫───────X──────────────\n",
       "      └──┬───┬──┘            ║   ║      ║           ║       │ ┌───┐┌───┐┌─┐\n",
       "q1_4: ───┤ H ├───────────────╫───╫──────╫───────────╫───────■─┤ H ├┤ X ├┤M├\n",
       "         └───┘               ║   ║ ┌────╨─────┐┌────╨─────┐   └───┘└───┘└╥┘\n",
       "c1: 3/═══════════════════════╩═══╩═╡ c1_0=0x1 ╞╡ c1_1=0x1 ╞══════════════╩═\n",
       "                             1   0 └──────────┘└──────────┘              2 </pre>"
      ],
      "text/plain": [
       "      ┌─────────┐          ┌───┐┌─┐                                        \n",
       "q1_0: ┤ Rx(π/3) ├───────■──┤ H ├┤M├────────────────────────────────────────\n",
       "      └──┬───┬──┘     ┌─┴─┐└┬─┬┘└╥┘                                        \n",
       "q1_1: ───┤ H ├─────■──┤ X ├─┤M├──╫─────────────────────────────────────────\n",
       "         └───┘   ┌─┴─┐└───┘ └╥┘  ║    ┌───┐       ┌───┐                    \n",
       "q1_2: ───────────┤ X ├───────╫───╫────┤ Z ├───────┤ X ├─────X──────────────\n",
       "      ┌─────────┐└───┘       ║   ║    └─╥─┘       └─╥─┘     │              \n",
       "q1_3: ┤ Rx(π/3) ├────────────╫───╫──────╫───────────╫───────X──────────────\n",
       "      └──┬───┬──┘            ║   ║      ║           ║       │ ┌───┐┌───┐┌─┐\n",
       "q1_4: ───┤ H ├───────────────╫───╫──────╫───────────╫───────■─┤ H ├┤ X ├┤M├\n",
       "         └───┘               ║   ║ ┌────╨─────┐┌────╨─────┐   └───┘└───┘└╥┘\n",
       "c1: 3/═══════════════════════╩═══╩═╡ c1_0=0x1 ╞╡ c1_1=0x1 ╞══════════════╩═\n",
       "                             1   0 └──────────┘└──────────┘              2 "
      ]
     },
     "execution_count": 6,
     "metadata": {},
     "output_type": "execute_result"
    }
   ],
   "source": [
    "circuit = QuantumCircuit(q,c)\n",
    "\n",
    "#prepare\n",
    "circuit.rx(pi/3, q[0])\n",
    "circuit.rx(pi/3, q[3])\n",
    "#prepare EPR pair\n",
    "circuit.h(q[1])\n",
    "circuit.cx(q[1], q[2])\n",
    "\n",
    "#measure with bell state\n",
    "circuit.cx(q[0], q[1])\n",
    "circuit.h(q[0])\n",
    "circuit.measure(q[0], c[0])\n",
    "circuit.measure(q[1], c[1])\n",
    "\n",
    "#reconstruct\n",
    "circuit.z(q[2]).c_if(c[0],1)\n",
    "circuit.x(q[2]).c_if(c[1],1)\n",
    "\n",
    "# swap test\n",
    "circuit.h(q[4])\n",
    "circuit.cswap(q[4], q[2], q[3])\n",
    "circuit.h(q[4])\n",
    "circuit.x(q[4])\n",
    "circuit.measure(q[4], c[2])\n",
    "circuit.draw()"
   ]
  },
  {
   "cell_type": "code",
   "execution_count": 7,
   "id": "25ece45d",
   "metadata": {},
   "outputs": [
    {
     "data": {
      "image/png": "[encoded data removed]",
      "text/plain": [
       "<Figure size 700x500 with 1 Axes>"
      ]
     },
     "execution_count": 7,
     "metadata": {},
     "output_type": "execute_result"
    }
   ],
   "source": [
    "simulator = Aer.get_backend('qasm_simulator')\n",
    "job = execute(circuit, simulator, shots = 1024)\n",
    "result = job.result()\n",
    "counts = result.get_counts()\n",
    "plot_histogram(counts)"
   ]
  },
  {
   "cell_type": "code",
   "execution_count": null,
   "id": "e9069559",
   "metadata": {},
   "outputs": [],
   "source": []
  }
 ],
 "metadata": {
  "kernelspec": {
   "display_name": "Python 3 (ipykernel)",
   "language": "python",
   "name": "python3"
  },
  "language_info": {
   "codemirror_mode": {
    "name": "ipython",
    "version": 3
   },
   "file_extension": ".py",
   "mimetype": "text/x-python",
   "name": "python",
   "nbconvert_exporter": "python",
   "pygments_lexer": "ipython3",
   "version": "3.11.4"
  }
 },
 "nbformat": 4,
 "nbformat_minor": 5
}
