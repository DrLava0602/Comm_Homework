{
 "cells": [
  {
   "cell_type": "code",
   "execution_count": 1,
   "metadata": {},
   "outputs": [
    {
     "name": "stdout",
     "output_type": "stream",
     "text": [
      "[1 1 0 0]\n"
     ]
    }
   ],
   "source": [
    "import qiskit\n",
    "from qiskit import *\n",
    "from qiskit import QuantumCircuit, execute, Aer\n",
    "from qiskit.visualization import plot_histogram, plot_bloch_vector, plot_bloch_multivector\n",
    "from math import sqrt, pi\n",
    "from numpy.random import randint\n",
    "import numpy as np\n",
    "\n",
    "from qiskit import IBMQ\n",
    "from qiskit_ibm_provider import IBMProvider, least_busy\n",
    "apitoken = 'add822bdd7a0cf338059a6157b26e50155c5bba4fc90826592b20ff80f379a99c8aefe0e52ad3dd304ead3d46edca9af9a9c507bd0096c1c085ce7b369c8e422' #insert api token here\n",
    "\n",
    "# #for account loading\n",
    "# IBMProvider.save_account(token=apitoken)\n",
    "# IBMProvider.load_account()\n",
    "\n",
    "# Setting the random seed\n",
    "np.random.seed(seed=60) # You may choose any seed instead of just `0'\n",
    "n = 4 # This is the number of bits in the string\n",
    "alice_bits = randint(2, size=n)\n",
    "print(alice_bits)"
   ]
  },
  {
   "cell_type": "code",
   "execution_count": 2,
   "metadata": {},
   "outputs": [
    {
     "name": "stdout",
     "output_type": "stream",
     "text": [
      "least busy backend:  <IBMBackend('ibm_lagos')>\n"
     ]
    }
   ],
   "source": [
    "provider = IBMProvider()\n",
    "backend = least_busy(provider.backends(filters=lambda x:\n",
    "x.configuration().n_qubits >= 2\n",
    "and not x.configuration().simulator\n",
    "and x.status().operational==True))\n",
    "print(\"least busy backend: \", backend)"
   ]
  },
  {
   "cell_type": "code",
   "execution_count": 3,
   "metadata": {},
   "outputs": [],
   "source": [
    "q = QuantumRegister(4)\n",
    "c = ClassicalRegister(4)"
   ]
  },
  {
   "cell_type": "code",
   "execution_count": 4,
   "metadata": {},
   "outputs": [
    {
     "data": {
      "text/html": [
       "<pre style=\"word-wrap: normal;white-space: pre;background: #fff0;line-height: 1.1;font-family: &quot;Courier New&quot;,Courier,monospace\">      ┌───┐     ┌───────┐┌───┐     ┌───┐   ┌─┐\n",
       "q0_0: ┤ H ├──■──┤ Ry(π) ├┤ I ├──■──┤ H ├───┤M├\n",
       "      └───┘┌─┴─┐└───────┘└───┘┌─┴─┐└┬─┬┘   └╥┘\n",
       "q0_1: ─────┤ X ├──────────────┤ X ├─┤M├─────╫─\n",
       "      ┌───┐└───┘  ┌───┐       ├───┤ └╥┘ ┌─┐ ║ \n",
       "q0_2: ┤ H ├──■────┤ I ├────■──┤ H ├──╫──┤M├─╫─\n",
       "      └───┘┌─┴─┐  └───┘  ┌─┴─┐└┬─┬┘  ║  └╥┘ ║ \n",
       "q0_3: ─────┤ X ├─────────┤ X ├─┤M├───╫───╫──╫─\n",
       "           └───┘         └───┘ └╥┘   ║   ║  ║ \n",
       "c0: 4/══════════════════════════╩════╩═══╩══╩═\n",
       "                                0    2   1  3 </pre>"
      ],
      "text/plain": [
       "      ┌───┐     ┌───────┐┌───┐     ┌───┐   ┌─┐\n",
       "q0_0: ┤ H ├──■──┤ Ry(π) ├┤ I ├──■──┤ H ├───┤M├\n",
       "      └───┘┌─┴─┐└───────┘└───┘┌─┴─┐└┬─┬┘   └╥┘\n",
       "q0_1: ─────┤ X ├──────────────┤ X ├─┤M├─────╫─\n",
       "      ┌───┐└───┘  ┌───┐       ├───┤ └╥┘ ┌─┐ ║ \n",
       "q0_2: ┤ H ├──■────┤ I ├────■──┤ H ├──╫──┤M├─╫─\n",
       "      └───┘┌─┴─┐  └───┘  ┌─┴─┐└┬─┬┘  ║  └╥┘ ║ \n",
       "q0_3: ─────┤ X ├─────────┤ X ├─┤M├───╫───╫──╫─\n",
       "           └───┘         └───┘ └╥┘   ║   ║  ║ \n",
       "c0: 4/══════════════════════════╩════╩═══╩══╩═\n",
       "                                0    2   1  3 "
      ]
     },
     "execution_count": 4,
     "metadata": {},
     "output_type": "execute_result"
    }
   ],
   "source": [
    "circuit = QuantumCircuit(q,c)\n",
    "circuit.h(q[0])\n",
    "circuit.h(q[2])\n",
    "circuit.cx(q[0], q[1])\n",
    "circuit.cx(q[2], q[3])\n",
    "if alice_bits[0] == 0:\n",
    "    if alice_bits[1] == 1:\n",
    "        circuit.x(q[0])\n",
    "elif alice_bits[0] == 1:\n",
    "    if alice_bits[1] == 0:\n",
    "        circuit.z(q[0])\n",
    "    else:\n",
    "        circuit.ry(pi, q[0])\n",
    "        \n",
    "if alice_bits[2] == 0:\n",
    "    if alice_bits[3] == 1:\n",
    "        circuit.x(q[2])\n",
    "elif alice_bits[2] == 1:\n",
    "    if alice_bits[3] == 0:\n",
    "        circuit.z(q[2])\n",
    "    else:\n",
    "        circuit.ry(pi, q[2])\n",
    "        \n",
    "circuit.i(q[0])\n",
    "circuit.i(q[2])\n",
    "        \n",
    "circuit.cx(q[0], q[1])\n",
    "circuit.cx(q[2], q[3])\n",
    "circuit.h(q[0])\n",
    "circuit.h(q[2])\n",
    "circuit.measure(q[0],c[3])\n",
    "circuit.measure(q[1],c[2])\n",
    "circuit.measure(q[2],c[1])\n",
    "circuit.measure(q[3],c[0])\n",
    "circuit.draw()"
   ]
  },
  {
   "cell_type": "code",
   "execution_count": 5,
   "metadata": {},
   "outputs": [
    {
     "name": "stdout",
     "output_type": "stream",
     "text": [
      "Statevector([ 0.+0.000000e+00j,  0.+0.000000e+00j,  0.-0.000000e+00j,\n",
      "             -1.+6.123234e-17j,  0.+0.000000e+00j,  0.+0.000000e+00j,\n",
      "              0.+0.000000e+00j,  0.+0.000000e+00j,  0.+0.000000e+00j,\n",
      "              0.+0.000000e+00j,  0.+0.000000e+00j,  0.+0.000000e+00j,\n",
      "              0.+0.000000e+00j,  0.+0.000000e+00j,  0.+0.000000e+00j,\n",
      "              0.+0.000000e+00j],\n",
      "            dims=(2, 2, 2, 2))\n"
     ]
    }
   ],
   "source": [
    "simulator = Aer.get_backend('statevector_simulator')\n",
    "job = execute(circuit, simulator)\n",
    "result = job.result()\n",
    "statevector = result.get_statevector()\n",
    "print(statevector)"
   ]
  },
  {
   "cell_type": "code",
   "execution_count": 6,
   "metadata": {},
   "outputs": [
    {
     "name": "stdout",
     "output_type": "stream",
     "text": [
      "Job Status: job has successfully run\n"
     ]
    }
   ],
   "source": [
    "# simulator = Aer.get_backend('qasm_simulator')\n",
    "# job = execute(circuit, simulator, shots = 1024)\n",
    "# result = job.result()\n",
    "# counts = result.get_counts()\n",
    "# plot_histogram(counts)\n",
    "\n",
    "qcomp = provider.get_backend(\"ibm_lagos\")\n",
    "job = execute(circuit, backend = qcomp, shots = 1000)\n",
    "from qiskit.tools.monitor import job_monitor\n",
    "job_monitor(job)"
   ]
  }
 ],
 "metadata": {
  "kernelspec": {
   "display_name": "Python 3 (ipykernel)",
   "language": "python",
   "name": "python3"
  },
  "language_info": {
   "codemirror_mode": {
    "name": "ipython",
    "version": 3
   },
   "file_extension": ".py",
   "mimetype": "text/x-python",
   "name": "python",
   "nbconvert_exporter": "python",
   "pygments_lexer": "ipython3",
   "version": "3.11.4"
  }
 },
 "nbformat": 4,
 "nbformat_minor": 2
}
