{
 "cells": [
  {
   "cell_type": "code",
   "execution_count": 1,
   "id": "b35cb77a",
   "metadata": {},
   "outputs": [],
   "source": [
    "import qiskit\n",
    "from qiskit import *\n",
    "from qiskit import QuantumCircuit, execute, Aer\n",
    "from qiskit.quantum_info import partial_trace\n",
    "from qiskit.visualization import plot_histogram, plot_bloch_vector, plot_bloch_multivector\n",
    "from math import sqrt, pi\n",
    "from numpy.random import randint\n",
    "import numpy as np\n",
    "from qiskit import IBMQ\n",
    "from qiskit_ibm_provider import IBMProvider, least_busy\n",
    "\n",
    "apitoken = 'add822bdd7a0cf338059a6157b26e50155c5bba4fc90826592b20ff80f379a99c8aefe0e52ad3dd304ead3d46edca9af9a9c507bd0096c1c085ce7b369c8e422' #insert api token here\n",
    "\n",
    "# #for account loading\n",
    "# IBMProvider.save_account(token=apitoken)\n",
    "# IBMProvider.load_account()\n",
    "# provider = IBMProvider()\n",
    "# backend = least_busy(provider.backends(filters=lambda x:\n",
    "# x.configuration().n_qubits >= 2\n",
    "# and not x.configuration().simulator\n",
    "# and x.status().operational==True))\n",
    "# print(\"least busy backend: \", backend)\n"
   ]
  },
  {
   "cell_type": "code",
   "execution_count": 2,
   "id": "128d3288",
   "metadata": {},
   "outputs": [],
   "source": [
    "q = QuantumRegister(4)\n",
    "c = ClassicalRegister(4)"
   ]
  },
  {
   "cell_type": "code",
   "execution_count": 3,
   "id": "bf23a6c5",
   "metadata": {},
   "outputs": [
    {
     "data": {
      "text/html": [
       "<pre style=\"word-wrap: normal;white-space: pre;background: #fff0;line-height: 1.1;font-family: &quot;Courier New&quot;,Courier,monospace\">      ┌───┐                                          \n",
       "q0_0: ┤ H ├──■───────────────────────────────────────\n",
       "      └───┘┌─┴─┐     ┌───┐┌─┐                        \n",
       "q0_1: ─────┤ X ├──■──┤ H ├┤M├────────────────────────\n",
       "      ┌───┐└───┘┌─┴─┐└┬─┬┘└╥┘                        \n",
       "q0_2: ┤ H ├──■──┤ X ├─┤M├──╫─────────────────────────\n",
       "      └───┘┌─┴─┐└───┘ └╥┘  ║    ┌───┐       ┌───┐    \n",
       "q0_3: ─────┤ X ├───────╫───╫────┤ Z ├───────┤ X ├────\n",
       "           └───┘       ║   ║    └─╥─┘       └─╥─┘    \n",
       "                       ║   ║ ┌────╨─────┐┌────╨─────┐\n",
       "c0: 4/═════════════════╩═══╩═╡ c0_1=0x1 ╞╡ c0_2=0x1 ╞\n",
       "                       2   1 └──────────┘└──────────┘</pre>"
      ],
      "text/plain": [
       "      ┌───┐                                          \n",
       "q0_0: ┤ H ├──■───────────────────────────────────────\n",
       "      └───┘┌─┴─┐     ┌───┐┌─┐                        \n",
       "q0_1: ─────┤ X ├──■──┤ H ├┤M├────────────────────────\n",
       "      ┌───┐└───┘┌─┴─┐└┬─┬┘└╥┘                        \n",
       "q0_2: ┤ H ├──■──┤ X ├─┤M├──╫─────────────────────────\n",
       "      └───┘┌─┴─┐└───┘ └╥┘  ║    ┌───┐       ┌───┐    \n",
       "q0_3: ─────┤ X ├───────╫───╫────┤ Z ├───────┤ X ├────\n",
       "           └───┘       ║   ║    └─╥─┘       └─╥─┘    \n",
       "                       ║   ║ ┌────╨─────┐┌────╨─────┐\n",
       "c0: 4/═════════════════╩═══╩═╡ c0_1=0x1 ╞╡ c0_2=0x1 ╞\n",
       "                       2   1 └──────────┘└──────────┘"
      ]
     },
     "execution_count": 3,
     "metadata": {},
     "output_type": "execute_result"
    }
   ],
   "source": [
    "circuit = QuantumCircuit(q,c)\n",
    "\n",
    "#EPR pairs\n",
    "circuit.h(q[0])\n",
    "circuit.cx(q[0], q[1])\n",
    "circuit.h(q[2])\n",
    "circuit.cx(q[2], q[3])\n",
    "\n",
    "#bell measure\n",
    "circuit.cx(q[1], q[2])\n",
    "circuit.h(q[1])\n",
    "circuit.measure(q[1], c[1])\n",
    "circuit.measure(q[2], c[2])\n",
    "\n",
    "#apply gate\n",
    "circuit.z(q[3]).c_if(c[1],1)\n",
    "circuit.x(q[3]).c_if(c[2],1)\n",
    "\n",
    "circuit.draw()"
   ]
  },
  {
   "cell_type": "code",
   "execution_count": 4,
   "id": "0e3f7a8f",
   "metadata": {},
   "outputs": [
    {
     "data": {
      "text/html": [
       "<pre style=\"word-wrap: normal;white-space: pre;background: #fff0;line-height: 1.1;font-family: &quot;Courier New&quot;,Courier,monospace\">      ┌───┐                                               ┌───┐┌─┐\n",
       "q0_0: ┤ H ├──■─────────────────────────────────────────■──┤ H ├┤M├\n",
       "      └───┘┌─┴─┐     ┌───┐┌─┐                          │  └───┘└╥┘\n",
       "q0_1: ─────┤ X ├──■──┤ H ├┤M├──────────────────────────┼────────╫─\n",
       "      ┌───┐└───┘┌─┴─┐└┬─┬┘└╥┘                          │        ║ \n",
       "q0_2: ┤ H ├──■──┤ X ├─┤M├──╫───────────────────────────┼────────╫─\n",
       "      └───┘┌─┴─┐└───┘ └╥┘  ║    ┌───┐       ┌───┐    ┌─┴─┐ ┌─┐  ║ \n",
       "q0_3: ─────┤ X ├───────╫───╫────┤ Z ├───────┤ X ├────┤ X ├─┤M├──╫─\n",
       "           └───┘       ║   ║    └─╥─┘       └─╥─┘    └───┘ └╥┘  ║ \n",
       "                       ║   ║ ┌────╨─────┐┌────╨─────┐       ║   ║ \n",
       "c0: 4/═════════════════╩═══╩═╡ c0_1=0x1 ╞╡ c0_2=0x1 ╞═══════╩═══╩═\n",
       "                       2   1 └──────────┘└──────────┘       3   0 </pre>"
      ],
      "text/plain": [
       "      ┌───┐                                               ┌───┐┌─┐\n",
       "q0_0: ┤ H ├──■─────────────────────────────────────────■──┤ H ├┤M├\n",
       "      └───┘┌─┴─┐     ┌───┐┌─┐                          │  └───┘└╥┘\n",
       "q0_1: ─────┤ X ├──■──┤ H ├┤M├──────────────────────────┼────────╫─\n",
       "      ┌───┐└───┘┌─┴─┐└┬─┬┘└╥┘                          │        ║ \n",
       "q0_2: ┤ H ├──■──┤ X ├─┤M├──╫───────────────────────────┼────────╫─\n",
       "      └───┘┌─┴─┐└───┘ └╥┘  ║    ┌───┐       ┌───┐    ┌─┴─┐ ┌─┐  ║ \n",
       "q0_3: ─────┤ X ├───────╫───╫────┤ Z ├───────┤ X ├────┤ X ├─┤M├──╫─\n",
       "           └───┘       ║   ║    └─╥─┘       └─╥─┘    └───┘ └╥┘  ║ \n",
       "                       ║   ║ ┌────╨─────┐┌────╨─────┐       ║   ║ \n",
       "c0: 4/═════════════════╩═══╩═╡ c0_1=0x1 ╞╡ c0_2=0x1 ╞═══════╩═══╩═\n",
       "                       2   1 └──────────┘└──────────┘       3   0 "
      ]
     },
     "execution_count": 4,
     "metadata": {},
     "output_type": "execute_result"
    }
   ],
   "source": [
    "circuit.cx(q[0], q[3])\n",
    "circuit.h(q[0])\n",
    "circuit.measure(q[0], c[0])\n",
    "circuit.measure(q[3], c[3])\n",
    "circuit.draw()"
   ]
  },
  {
   "cell_type": "code",
   "execution_count": 5,
   "id": "e30b4417",
   "metadata": {},
   "outputs": [
    {
     "data": {
      "image/png": "[encoded data removed]",
      "text/plain": [
       "<Figure size 700x500 with 1 Axes>"
      ]
     },
     "execution_count": 5,
     "metadata": {},
     "output_type": "execute_result"
    }
   ],
   "source": [
    "simulator = Aer.get_backend('qasm_simulator')\n",
    "job = execute(circuit, simulator, shots = 1024)\n",
    "result = job.result()\n",
    "counts = result.get_counts()\n",
    "plot_histogram(counts)"
   ]
  },
  {
   "cell_type": "code",
   "execution_count": null,
   "id": "2eb11797",
   "metadata": {},
   "outputs": [],
   "source": []
  }
 ],
 "metadata": {
  "kernelspec": {
   "display_name": "Python 3 (ipykernel)",
   "language": "python",
   "name": "python3"
  },
  "language_info": {
   "codemirror_mode": {
    "name": "ipython",
    "version": 3
   },
   "file_extension": ".py",
   "mimetype": "text/x-python",
   "name": "python",
   "nbconvert_exporter": "python",
   "pygments_lexer": "ipython3",
   "version": "3.11.4"
  }
 },
 "nbformat": 4,
 "nbformat_minor": 5
}
