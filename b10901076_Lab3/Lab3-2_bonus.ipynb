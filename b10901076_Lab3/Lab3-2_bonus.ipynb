{
 "cells": [
  {
   "cell_type": "code",
   "execution_count": 1,
   "id": "a5debd06",
   "metadata": {},
   "outputs": [],
   "source": [
    "import qiskit\n",
    "import numpy as np\n",
    "from qiskit import *\n",
    "from qiskit import QuantumCircuit, execute, Aer\n",
    "from qiskit.visualization import plot_histogram, plot_bloch_vector, plot_bloch_multivector\n",
    "from math import sqrt, pi"
   ]
  },
  {
   "cell_type": "code",
   "execution_count": 2,
   "id": "ec5d7a89",
   "metadata": {},
   "outputs": [],
   "source": [
    "q = QuantumRegister(5)\n",
    "c = ClassicalRegister(4)"
   ]
  },
  {
   "cell_type": "code",
   "execution_count": 22,
   "id": "617b6cb1",
   "metadata": {},
   "outputs": [
    {
     "data": {
      "text/html": [
       "<pre style=\"word-wrap: normal;white-space: pre;background: #fff0;line-height: 1.1;font-family: &quot;Courier New&quot;,Courier,monospace\">      ┌───┐          ┌───┐┌───┐     ┌───┐┌───┐     ┌─┐         \n",
       "q0_0: ┤ H ├───────■──┤ H ├┤ X ├──■──┤ X ├┤ H ├─────┤M├─────────\n",
       "      ├───┤       │  ├───┤├───┤  │  ├───┤├───┤     └╥┘┌─┐      \n",
       "q0_1: ┤ H ├───────■──┤ H ├┤ X ├──■──┤ X ├┤ H ├──────╫─┤M├──────\n",
       "      ├───┤┌───┐  │  ├───┤└───┘  │  ├───┤├───┤      ║ └╥┘┌─┐   \n",
       "q0_2: ┤ H ├┤ H ├──┼──┤ X ├───────■──┤ X ├┤ H ├──────╫──╫─┤M├───\n",
       "      ├───┤├───┤  │  ├───┤┌───┐┌─┴─┐├───┤├───┤┌───┐ ║  ║ └╥┘┌─┐\n",
       "q0_3: ┤ H ├┤ H ├──┼──┤ X ├┤ H ├┤ X ├┤ H ├┤ X ├┤ H ├─╫──╫──╫─┤M├\n",
       "      ├───┤├───┤┌─┴─┐└───┘└───┘└───┘└───┘└───┘└───┘ ║  ║  ║ └╥┘\n",
       "q0_4: ┤ X ├┤ H ├┤ X ├───────────────────────────────╫──╫──╫──╫─\n",
       "      └───┘└───┘└───┘                               ║  ║  ║  ║ \n",
       "c0: 4/══════════════════════════════════════════════╩══╩══╩══╩═\n",
       "                                                    0  1  2  3 </pre>"
      ],
      "text/plain": [
       "      ┌───┐          ┌───┐┌───┐     ┌───┐┌───┐     ┌─┐         \n",
       "q0_0: ┤ H ├───────■──┤ H ├┤ X ├──■──┤ X ├┤ H ├─────┤M├─────────\n",
       "      ├───┤       │  ├───┤├───┤  │  ├───┤├───┤     └╥┘┌─┐      \n",
       "q0_1: ┤ H ├───────■──┤ H ├┤ X ├──■──┤ X ├┤ H ├──────╫─┤M├──────\n",
       "      ├───┤┌───┐  │  ├───┤└───┘  │  ├───┤├───┤      ║ └╥┘┌─┐   \n",
       "q0_2: ┤ H ├┤ H ├──┼──┤ X ├───────■──┤ X ├┤ H ├──────╫──╫─┤M├───\n",
       "      ├───┤├───┤  │  ├───┤┌───┐┌─┴─┐├───┤├───┤┌───┐ ║  ║ └╥┘┌─┐\n",
       "q0_3: ┤ H ├┤ H ├──┼──┤ X ├┤ H ├┤ X ├┤ H ├┤ X ├┤ H ├─╫──╫──╫─┤M├\n",
       "      ├───┤├───┤┌─┴─┐└───┘└───┘└───┘└───┘└───┘└───┘ ║  ║  ║ └╥┘\n",
       "q0_4: ┤ X ├┤ H ├┤ X ├───────────────────────────────╫──╫──╫──╫─\n",
       "      └───┘└───┘└───┘                               ║  ║  ║  ║ \n",
       "c0: 4/══════════════════════════════════════════════╩══╩══╩══╩═\n",
       "                                                    0  1  2  3 "
      ]
     },
     "execution_count": 22,
     "metadata": {},
     "output_type": "execute_result"
    }
   ],
   "source": [
    "circuit = QuantumCircuit(q,c)\n",
    "\n",
    "circuit.h(0)\n",
    "circuit.h(1)\n",
    "circuit.h(2)\n",
    "circuit.h(3)\n",
    "circuit.x(4)\n",
    "circuit.h(4)\n",
    "\n",
    "for i in range(1):\n",
    "    # oracle with jey set to 1111\n",
    "#     circuit.mct(list(range(4)), 4)\n",
    "    # oracle with key set to 0011, 0111. 1011, 1111\n",
    "    circuit.ccx(0, 1, 4)\n",
    "    circuit.h(0)\n",
    "    circuit.h(1)\n",
    "    circuit.h(2)\n",
    "    circuit.h(3)\n",
    "    circuit.x(0)\n",
    "    circuit.x(1)\n",
    "    circuit.x(2)\n",
    "    circuit.x(3)\n",
    "    circuit.h(3)\n",
    "    circuit.mct(list(range(3)), 3)\n",
    "    circuit.h(3)\n",
    "    circuit.x(0)\n",
    "    circuit.x(1)\n",
    "    circuit.x(2)\n",
    "    circuit.x(3)\n",
    "    circuit.h(0)\n",
    "    circuit.h(1)\n",
    "    circuit.h(2)\n",
    "    circuit.h(3)\n",
    "\n",
    "circuit.measure(q[0], c[0])\n",
    "circuit.measure(q[1], c[1])\n",
    "circuit.measure(q[2], c[2])\n",
    "circuit.measure(q[3], c[3])\n",
    "\n",
    "circuit.draw()"
   ]
  },
  {
   "cell_type": "code",
   "execution_count": 23,
   "id": "0ccb3049",
   "metadata": {},
   "outputs": [
    {
     "data": {
      "image/png": "[encoded data removed]",
      "text/plain": [
       "<Figure size 700x500 with 1 Axes>"
      ]
     },
     "execution_count": 23,
     "metadata": {},
     "output_type": "execute_result"
    }
   ],
   "source": [
    "simulator = Aer.get_backend('qasm_simulator')\n",
    "job = execute(circuit, simulator, shots = 1024)\n",
    "result = job.result()\n",
    "counts = result.get_counts()\n",
    "plot_histogram(counts)"
   ]
  },
  {
   "cell_type": "code",
   "execution_count": null,
   "id": "ead3830e",
   "metadata": {},
   "outputs": [],
   "source": []
  }
 ],
 "metadata": {
  "kernelspec": {
   "display_name": "Python 3 (ipykernel)",
   "language": "python",
   "name": "python3"
  },
  "language_info": {
   "codemirror_mode": {
    "name": "ipython",
    "version": 3
   },
   "file_extension": ".py",
   "mimetype": "text/x-python",
   "name": "python",
   "nbconvert_exporter": "python",
   "pygments_lexer": "ipython3",
   "version": "3.11.4"
  }
 },
 "nbformat": 4,
 "nbformat_minor": 5
}
