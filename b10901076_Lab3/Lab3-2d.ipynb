{
 "cells": [
  {
   "cell_type": "code",
   "execution_count": 1,
   "id": "7bd1420a",
   "metadata": {},
   "outputs": [],
   "source": [
    "import qiskit\n",
    "import numpy as np\n",
    "from qiskit import *\n",
    "from qiskit import QuantumCircuit, execute, Aer\n",
    "from qiskit.visualization import plot_histogram, plot_bloch_vector, plot_bloch_multivector\n",
    "from math import sqrt, pi"
   ]
  },
  {
   "cell_type": "code",
   "execution_count": 2,
   "id": "5791eb4e",
   "metadata": {},
   "outputs": [],
   "source": [
    "q = QuantumRegister(3)\n",
    "c = ClassicalRegister(3)"
   ]
  },
  {
   "cell_type": "code",
   "execution_count": 3,
   "id": "e2e6d577",
   "metadata": {},
   "outputs": [
    {
     "data": {
      "text/html": [
       "<pre style=\"word-wrap: normal;white-space: pre;background: #fff0;line-height: 1.1;font-family: &quot;Courier New&quot;,Courier,monospace\">      ┌─────────┐\n",
       "q0_0: ┤ Ry(π/3) ├\n",
       "      ├─────────┤\n",
       "q0_1: ┤ Ry(π/5) ├\n",
       "      ├─────────┤\n",
       "q0_2: ┤ Ry(π/7) ├\n",
       "      └─────────┘\n",
       "c0: 3/═══════════\n",
       "                 </pre>"
      ],
      "text/plain": [
       "      ┌─────────┐\n",
       "q0_0: ┤ Ry(π/3) ├\n",
       "      ├─────────┤\n",
       "q0_1: ┤ Ry(π/5) ├\n",
       "      ├─────────┤\n",
       "q0_2: ┤ Ry(π/7) ├\n",
       "      └─────────┘\n",
       "c0: 3/═══════════\n",
       "                 "
      ]
     },
     "execution_count": 3,
     "metadata": {},
     "output_type": "execute_result"
    }
   ],
   "source": [
    "circuit = QuantumCircuit(q,c)\n",
    "\n",
    "# prepare random initial state\n",
    "circuit.ry(pi/3, q[0])\n",
    "circuit.ry(pi/5, q[1])\n",
    "circuit.ry(pi/7, q[2])\n",
    "circuit.draw()"
   ]
  },
  {
   "cell_type": "code",
   "execution_count": 4,
   "id": "b6663ca5",
   "metadata": {},
   "outputs": [
    {
     "name": "stdout",
     "output_type": "stream",
     "text": [
      "Statevector([0.80298875+0.j, 0.46360577+0.j, 0.26090686+0.j,\n",
      "             0.15063465+0.j, 0.18327694+0.j, 0.10581499+0.j,\n",
      "             0.05955029+0.j, 0.03438138+0.j],\n",
      "            dims=(2, 2, 2))\n"
     ]
    }
   ],
   "source": [
    "simulator = Aer.get_backend('statevector_simulator')\n",
    "job = execute(circuit, simulator)\n",
    "result = job.result()\n",
    "statevector = result.get_statevector()\n",
    "print(statevector)"
   ]
  },
  {
   "cell_type": "code",
   "execution_count": 5,
   "id": "3003cf5b",
   "metadata": {},
   "outputs": [
    {
     "data": {
      "text/html": [
       "<pre style=\"word-wrap: normal;white-space: pre;background: #fff0;line-height: 1.1;font-family: &quot;Courier New&quot;,Courier,monospace\">      ┌─────────┐      \n",
       "q0_0: ┤ Ry(π/3) ├─■────\n",
       "      ├─────────┤ │    \n",
       "q0_1: ┤ Ry(π/5) ├─┼──■─\n",
       "      ├─────────┤ │  │ \n",
       "q0_2: ┤ Ry(π/7) ├─■──■─\n",
       "      └─────────┘      \n",
       "c0: 3/═════════════════\n",
       "                       </pre>"
      ],
      "text/plain": [
       "      ┌─────────┐      \n",
       "q0_0: ┤ Ry(π/3) ├─■────\n",
       "      ├─────────┤ │    \n",
       "q0_1: ┤ Ry(π/5) ├─┼──■─\n",
       "      ├─────────┤ │  │ \n",
       "q0_2: ┤ Ry(π/7) ├─■──■─\n",
       "      └─────────┘      \n",
       "c0: 3/═════════════════\n",
       "                       "
      ]
     },
     "execution_count": 5,
     "metadata": {},
     "output_type": "execute_result"
    }
   ],
   "source": [
    "circuit.cz(0, 2)\n",
    "circuit.cz(1, 2)\n",
    "circuit.draw()"
   ]
  },
  {
   "cell_type": "code",
   "execution_count": 6,
   "id": "a1a3a0ad",
   "metadata": {},
   "outputs": [
    {
     "name": "stdout",
     "output_type": "stream",
     "text": [
      "Statevector([ 0.80298875+0.j,  0.46360577+0.j,  0.26090686+0.j,\n",
      "              0.15063465+0.j,  0.18327694+0.j, -0.10581499+0.j,\n",
      "             -0.05955029+0.j,  0.03438138-0.j],\n",
      "            dims=(2, 2, 2))\n"
     ]
    }
   ],
   "source": [
    "simulator = Aer.get_backend('statevector_simulator')\n",
    "job = execute(circuit, simulator)\n",
    "result = job.result()\n",
    "statevector = result.get_statevector()\n",
    "print(statevector)"
   ]
  }
 ],
 "metadata": {
  "kernelspec": {
   "display_name": "Python 3 (ipykernel)",
   "language": "python",
   "name": "python3"
  },
  "language_info": {
   "codemirror_mode": {
    "name": "ipython",
    "version": 3
   },
   "file_extension": ".py",
   "mimetype": "text/x-python",
   "name": "python",
   "nbconvert_exporter": "python",
   "pygments_lexer": "ipython3",
   "version": "3.11.4"
  }
 },
 "nbformat": 4,
 "nbformat_minor": 5
}
