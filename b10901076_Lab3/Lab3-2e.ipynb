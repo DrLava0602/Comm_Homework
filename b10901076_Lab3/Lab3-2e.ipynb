{
 "cells": [
  {
   "cell_type": "code",
   "execution_count": 1,
   "id": "b1cadc63",
   "metadata": {},
   "outputs": [],
   "source": [
    "import qiskit\n",
    "import numpy as np\n",
    "from qiskit import *\n",
    "from qiskit import QuantumCircuit, execute, Aer\n",
    "from qiskit.visualization import plot_histogram, plot_bloch_vector, plot_bloch_multivector\n",
    "from math import sqrt, pi"
   ]
  },
  {
   "cell_type": "code",
   "execution_count": 2,
   "id": "562ec854",
   "metadata": {},
   "outputs": [],
   "source": [
    "q = QuantumRegister(3)\n",
    "c = ClassicalRegister(3)"
   ]
  },
  {
   "cell_type": "code",
   "execution_count": 13,
   "id": "8b9e4ac5",
   "metadata": {},
   "outputs": [
    {
     "data": {
      "text/html": [
       "<pre style=\"word-wrap: normal;white-space: pre;background: #fff0;line-height: 1.1;font-family: &quot;Courier New&quot;,Courier,monospace\">      ┌───┐   ┌───┐┌───┐               ┌───┐┌───┐     ┌─┐      \n",
       "q0_0: ┤ H ├─■─┤ H ├┤ X ├────────────■──┤ X ├┤ H ├─────┤M├──────\n",
       "      ├───┤ │ └───┘├───┤┌───┐       │  ├───┤├───┤     └╥┘┌─┐   \n",
       "q0_1: ┤ H ├─┼───■──┤ H ├┤ X ├───────■──┤ X ├┤ H ├──────╫─┤M├───\n",
       "      ├───┤ │   │  ├───┤├───┤┌───┐┌─┴─┐├───┤├───┤┌───┐ ║ └╥┘┌─┐\n",
       "q0_2: ┤ H ├─■───■──┤ H ├┤ X ├┤ H ├┤ X ├┤ H ├┤ X ├┤ H ├─╫──╫─┤M├\n",
       "      └───┘        └───┘└───┘└───┘└───┘└───┘└───┘└───┘ ║  ║ └╥┘\n",
       "c0: 3/═════════════════════════════════════════════════╩══╩══╩═\n",
       "                                                       0  1  2 </pre>"
      ],
      "text/plain": [
       "      ┌───┐   ┌───┐┌───┐               ┌───┐┌───┐     ┌─┐      \n",
       "q0_0: ┤ H ├─■─┤ H ├┤ X ├────────────■──┤ X ├┤ H ├─────┤M├──────\n",
       "      ├───┤ │ └───┘├───┤┌───┐       │  ├───┤├───┤     └╥┘┌─┐   \n",
       "q0_1: ┤ H ├─┼───■──┤ H ├┤ X ├───────■──┤ X ├┤ H ├──────╫─┤M├───\n",
       "      ├───┤ │   │  ├───┤├───┤┌───┐┌─┴─┐├───┤├───┤┌───┐ ║ └╥┘┌─┐\n",
       "q0_2: ┤ H ├─■───■──┤ H ├┤ X ├┤ H ├┤ X ├┤ H ├┤ X ├┤ H ├─╫──╫─┤M├\n",
       "      └───┘        └───┘└───┘└───┘└───┘└───┘└───┘└───┘ ║  ║ └╥┘\n",
       "c0: 3/═════════════════════════════════════════════════╩══╩══╩═\n",
       "                                                       0  1  2 "
      ]
     },
     "execution_count": 13,
     "metadata": {},
     "output_type": "execute_result"
    }
   ],
   "source": [
    "circuit = QuantumCircuit(q,c)\n",
    "\n",
    "circuit.h(0)\n",
    "circuit.h(1)\n",
    "circuit.h(2)\n",
    "\n",
    "for i in range(1):\n",
    "    circuit.cz(0, 2)\n",
    "    circuit.cz(1, 2)\n",
    "    circuit.h(0)\n",
    "    circuit.h(1)\n",
    "    circuit.h(2)\n",
    "    circuit.x(0)\n",
    "    circuit.x(1)\n",
    "    circuit.x(2)\n",
    "    circuit.h(2)\n",
    "    circuit.mct(list(range(2)), 2)\n",
    "    circuit.h(2)\n",
    "    circuit.x(0)\n",
    "    circuit.x(1)\n",
    "    circuit.x(2)\n",
    "    circuit.h(0)\n",
    "    circuit.h(1)\n",
    "    circuit.h(2)\n",
    "\n",
    "circuit.measure(q[0], c[0])\n",
    "circuit.measure(q[1], c[1])\n",
    "circuit.measure(q[2], c[2])\n",
    "\n",
    "circuit.draw()"
   ]
  },
  {
   "cell_type": "code",
   "execution_count": 14,
   "id": "26355687",
   "metadata": {},
   "outputs": [
    {
     "data": {
      "image/png": "[encoded data removed]",
      "text/plain": [
       "<Figure size 700x500 with 1 Axes>"
      ]
     },
     "execution_count": 14,
     "metadata": {},
     "output_type": "execute_result"
    }
   ],
   "source": [
    "simulator = Aer.get_backend('qasm_simulator')\n",
    "job = execute(circuit, simulator, shots = 1024)\n",
    "result = job.result()\n",
    "counts = result.get_counts()\n",
    "plot_histogram(counts)"
   ]
  },
  {
   "cell_type": "code",
   "execution_count": null,
   "id": "59a8a4ee",
   "metadata": {},
   "outputs": [],
   "source": []
  }
 ],
 "metadata": {
  "kernelspec": {
   "display_name": "Python 3 (ipykernel)",
   "language": "python",
   "name": "python3"
  },
  "language_info": {
   "codemirror_mode": {
    "name": "ipython",
    "version": 3
   },
   "file_extension": ".py",
   "mimetype": "text/x-python",
   "name": "python",
   "nbconvert_exporter": "python",
   "pygments_lexer": "ipython3",
   "version": "3.11.4"
  }
 },
 "nbformat": 4,
 "nbformat_minor": 5
}
