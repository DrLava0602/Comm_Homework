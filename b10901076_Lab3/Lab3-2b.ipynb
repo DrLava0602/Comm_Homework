{
 "cells": [
  {
   "cell_type": "code",
   "execution_count": 1,
   "id": "9b572741",
   "metadata": {},
   "outputs": [],
   "source": [
    "import qiskit\n",
    "import numpy as np\n",
    "from qiskit import *\n",
    "from qiskit import QuantumCircuit, execute, Aer\n",
    "from qiskit.visualization import plot_histogram, plot_bloch_vector, plot_bloch_multivector\n",
    "from math import sqrt, pi"
   ]
  },
  {
   "cell_type": "code",
   "execution_count": 2,
   "id": "68c18609",
   "metadata": {},
   "outputs": [],
   "source": [
    "q = QuantumRegister(3)\n",
    "c = ClassicalRegister(3)"
   ]
  },
  {
   "cell_type": "code",
   "execution_count": 3,
   "id": "40d5370b",
   "metadata": {},
   "outputs": [
    {
     "data": {
      "text/html": [
       "<pre style=\"word-wrap: normal;white-space: pre;background: #fff0;line-height: 1.1;font-family: &quot;Courier New&quot;,Courier,monospace\">      ┌───┐┌───┐          ┌───┐┌───┐     \n",
       "q0_0: ┤ H ├┤ X ├───────■──┤ X ├┤ H ├─────\n",
       "      ├───┤├───┤       │  ├───┤├───┤     \n",
       "q0_1: ┤ H ├┤ X ├───────■──┤ X ├┤ H ├─────\n",
       "      ├───┤├───┤┌───┐┌─┴─┐├───┤├───┤┌───┐\n",
       "q0_2: ┤ H ├┤ X ├┤ H ├┤ X ├┤ H ├┤ X ├┤ H ├\n",
       "      └───┘└───┘└───┘└───┘└───┘└───┘└───┘\n",
       "c0: 3/═══════════════════════════════════\n",
       "                                         </pre>"
      ],
      "text/plain": [
       "      ┌───┐┌───┐          ┌───┐┌───┐     \n",
       "q0_0: ┤ H ├┤ X ├───────■──┤ X ├┤ H ├─────\n",
       "      ├───┤├───┤       │  ├───┤├───┤     \n",
       "q0_1: ┤ H ├┤ X ├───────■──┤ X ├┤ H ├─────\n",
       "      ├───┤├───┤┌───┐┌─┴─┐├───┤├───┤┌───┐\n",
       "q0_2: ┤ H ├┤ X ├┤ H ├┤ X ├┤ H ├┤ X ├┤ H ├\n",
       "      └───┘└───┘└───┘└───┘└───┘└───┘└───┘\n",
       "c0: 3/═══════════════════════════════════\n",
       "                                         "
      ]
     },
     "execution_count": 3,
     "metadata": {},
     "output_type": "execute_result"
    }
   ],
   "source": [
    "circuit = QuantumCircuit(q,c)\n",
    "\n",
    "circuit.h(0)\n",
    "circuit.h(1)\n",
    "circuit.h(2)\n",
    "circuit.x(0)\n",
    "circuit.x(1)\n",
    "circuit.x(2)\n",
    "circuit.h(2)\n",
    "circuit.mct(list(range(2)), 2)\n",
    "circuit.h(2)\n",
    "circuit.x(0)\n",
    "circuit.x(1)\n",
    "circuit.x(2)\n",
    "circuit.h(0)\n",
    "circuit.h(1)\n",
    "circuit.h(2)\n",
    "circuit.draw()"
   ]
  },
  {
   "cell_type": "code",
   "execution_count": null,
   "id": "23bf9fd5",
   "metadata": {},
   "outputs": [],
   "source": []
  }
 ],
 "metadata": {
  "kernelspec": {
   "display_name": "Python 3 (ipykernel)",
   "language": "python",
   "name": "python3"
  },
  "language_info": {
   "codemirror_mode": {
    "name": "ipython",
    "version": 3
   },
   "file_extension": ".py",
   "mimetype": "text/x-python",
   "name": "python",
   "nbconvert_exporter": "python",
   "pygments_lexer": "ipython3",
   "version": "3.11.4"
  }
 },
 "nbformat": 4,
 "nbformat_minor": 5
}
