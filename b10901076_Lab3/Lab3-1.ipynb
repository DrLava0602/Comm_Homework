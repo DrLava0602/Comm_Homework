{
 "cells": [
  {
   "cell_type": "code",
   "execution_count": 1,
   "id": "3d70a794",
   "metadata": {},
   "outputs": [],
   "source": [
    "import qiskit\n",
    "import numpy as np\n",
    "from qiskit import *\n",
    "from qiskit import QuantumCircuit, execute, Aer\n",
    "from qiskit.visualization import plot_histogram, plot_bloch_vector, plot_bloch_multivector\n",
    "from math import sqrt, pi"
   ]
  },
  {
   "cell_type": "code",
   "execution_count": 2,
   "id": "680eae89",
   "metadata": {},
   "outputs": [],
   "source": [
    "q = QuantumRegister(5)\n",
    "c = ClassicalRegister(4)"
   ]
  },
  {
   "cell_type": "code",
   "execution_count": 9,
   "id": "b699a0e6",
   "metadata": {},
   "outputs": [
    {
     "data": {
      "text/html": [
       "<pre style=\"word-wrap: normal;white-space: pre;background: #fff0;line-height: 1.1;font-family: &quot;Courier New&quot;,Courier,monospace\">      ┌───┐          ┌───┐     ┌─┐                   \n",
       "q0_0: ┤ H ├───────■──┤ H ├─────┤M├───────────────────\n",
       "      ├───┤       │  └───┘┌───┐└╥┘     ┌─┐           \n",
       "q0_1: ┤ H ├───────┼────■──┤ H ├─╫──────┤M├───────────\n",
       "      ├───┤       │    │  └───┘ ║ ┌───┐└╥┘     ┌─┐   \n",
       "q0_2: ┤ H ├───────┼────┼────■───╫─┤ H ├─╫──────┤M├───\n",
       "      ├───┤       │    │    │   ║ └───┘ ║ ┌───┐└╥┘┌─┐\n",
       "q0_3: ┤ H ├───────┼────┼────┼───╫───■───╫─┤ H ├─╫─┤M├\n",
       "      ├───┤┌───┐┌─┴─┐┌─┴─┐┌─┴─┐ ║ ┌─┴─┐ ║ └───┘ ║ └╥┘\n",
       "q0_4: ┤ X ├┤ H ├┤ X ├┤ X ├┤ X ├─╫─┤ X ├─╫───────╫──╫─\n",
       "      └───┘└───┘└───┘└───┘└───┘ ║ └───┘ ║       ║  ║ \n",
       "c0: 4/══════════════════════════╩═══════╩═══════╩══╩═\n",
       "                                0       1       2  3 </pre>"
      ],
      "text/plain": [
       "      ┌───┐          ┌───┐     ┌─┐                   \n",
       "q0_0: ┤ H ├───────■──┤ H ├─────┤M├───────────────────\n",
       "      ├───┤       │  └───┘┌───┐└╥┘     ┌─┐           \n",
       "q0_1: ┤ H ├───────┼────■──┤ H ├─╫──────┤M├───────────\n",
       "      ├───┤       │    │  └───┘ ║ ┌───┐└╥┘     ┌─┐   \n",
       "q0_2: ┤ H ├───────┼────┼────■───╫─┤ H ├─╫──────┤M├───\n",
       "      ├───┤       │    │    │   ║ └───┘ ║ ┌───┐└╥┘┌─┐\n",
       "q0_3: ┤ H ├───────┼────┼────┼───╫───■───╫─┤ H ├─╫─┤M├\n",
       "      ├───┤┌───┐┌─┴─┐┌─┴─┐┌─┴─┐ ║ ┌─┴─┐ ║ └───┘ ║ └╥┘\n",
       "q0_4: ┤ X ├┤ H ├┤ X ├┤ X ├┤ X ├─╫─┤ X ├─╫───────╫──╫─\n",
       "      └───┘└───┘└───┘└───┘└───┘ ║ └───┘ ║       ║  ║ \n",
       "c0: 4/══════════════════════════╩═══════╩═══════╩══╩═\n",
       "                                0       1       2  3 "
      ]
     },
     "execution_count": 9,
     "metadata": {},
     "output_type": "execute_result"
    }
   ],
   "source": [
    "circuit = QuantumCircuit(q,c)\n",
    "\n",
    "# initialte Deutsch\n",
    "circuit.h(q[0])\n",
    "circuit.h(q[1])\n",
    "circuit.h(q[2])\n",
    "circuit.h(q[3])\n",
    "circuit.x(q[4])\n",
    "circuit.h(q[4])\n",
    "\n",
    "# oracle 1 (constant)\n",
    "# circuit.i(q[0])\n",
    "# circuit.i(q[1])\n",
    "# circuit.i(q[2])\n",
    "# circuit.i(q[3])\n",
    "\n",
    "# oracle 2 (constant)\n",
    "# circuit.i(q[0])\n",
    "# circuit.i(q[1])\n",
    "# circuit.i(q[2])\n",
    "# circuit.i(q[3])\n",
    "# circuit.x(q[4])\n",
    "\n",
    "# oracle 3 (balanced)\n",
    "circuit.cx(q[0], q[4])\n",
    "circuit.cx(q[1], q[4])\n",
    "circuit.cx(q[2], q[4])\n",
    "circuit.cx(q[3], q[4])\n",
    "\n",
    "# end Deutsch\n",
    "circuit.h(q[0])\n",
    "circuit.h(q[1])\n",
    "circuit.h(q[2])\n",
    "circuit.h(q[3])\n",
    "\n",
    "circuit.measure(q[0], c[0])\n",
    "circuit.measure(q[1], c[1])\n",
    "circuit.measure(q[2], c[2])\n",
    "circuit.measure(q[3], c[3])\n",
    "circuit.draw()"
   ]
  },
  {
   "cell_type": "code",
   "execution_count": 10,
   "id": "76e30cec",
   "metadata": {},
   "outputs": [
    {
     "data": {
      "image/png": "[encoded data removed]",
      "text/plain": [
       "<Figure size 700x500 with 1 Axes>"
      ]
     },
     "execution_count": 10,
     "metadata": {},
     "output_type": "execute_result"
    }
   ],
   "source": [
    "simulator = Aer.get_backend('qasm_simulator')\n",
    "job = execute(circuit, simulator, shots = 1024)\n",
    "result = job.result()\n",
    "counts = result.get_counts()\n",
    "plot_histogram(counts)"
   ]
  },
  {
   "cell_type": "code",
   "execution_count": null,
   "id": "5ca0269f",
   "metadata": {},
   "outputs": [],
   "source": []
  }
 ],
 "metadata": {
  "kernelspec": {
   "display_name": "Python 3 (ipykernel)",
   "language": "python",
   "name": "python3"
  },
  "language_info": {
   "codemirror_mode": {
    "name": "ipython",
    "version": 3
   },
   "file_extension": ".py",
   "mimetype": "text/x-python",
   "name": "python",
   "nbconvert_exporter": "python",
   "pygments_lexer": "ipython3",
   "version": "3.11.4"
  }
 },
 "nbformat": 4,
 "nbformat_minor": 5
}
