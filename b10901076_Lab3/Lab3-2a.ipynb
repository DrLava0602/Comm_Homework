{
 "cells": [
  {
   "cell_type": "code",
   "execution_count": 1,
   "id": "15dcf450",
   "metadata": {},
   "outputs": [],
   "source": [
    "import qiskit\n",
    "import numpy as np\n",
    "from qiskit import *\n",
    "from qiskit import QuantumCircuit, execute, Aer\n",
    "from qiskit.visualization import plot_histogram, plot_bloch_vector, plot_bloch_multivector\n",
    "from math import sqrt, pi"
   ]
  },
  {
   "cell_type": "code",
   "execution_count": 2,
   "id": "d5c08fe6",
   "metadata": {},
   "outputs": [],
   "source": [
    "q = QuantumRegister(4)\n",
    "c = ClassicalRegister(4)"
   ]
  },
  {
   "cell_type": "code",
   "execution_count": 15,
   "id": "a08a7a79",
   "metadata": {},
   "outputs": [
    {
     "data": {
      "text/html": [
       "<pre style=\"word-wrap: normal;white-space: pre;background: #fff0;line-height: 1.1;font-family: &quot;Courier New&quot;,Courier,monospace\">      ┌─────────┐\n",
       "q0_0: ┤ Ry(π/3) ├\n",
       "      ├─────────┤\n",
       "q0_1: ┤ Ry(π/5) ├\n",
       "      ├─────────┤\n",
       "q0_2: ┤ Ry(π/7) ├\n",
       "      └─────────┘\n",
       "q0_3: ───────────\n",
       "                 \n",
       "c0: 4/═══════════\n",
       "                 </pre>"
      ],
      "text/plain": [
       "      ┌─────────┐\n",
       "q0_0: ┤ Ry(π/3) ├\n",
       "      ├─────────┤\n",
       "q0_1: ┤ Ry(π/5) ├\n",
       "      ├─────────┤\n",
       "q0_2: ┤ Ry(π/7) ├\n",
       "      └─────────┘\n",
       "q0_3: ───────────\n",
       "                 \n",
       "c0: 4/═══════════\n",
       "                 "
      ]
     },
     "execution_count": 15,
     "metadata": {},
     "output_type": "execute_result"
    }
   ],
   "source": [
    "circuit = QuantumCircuit(q,c)\n",
    "\n",
    "# prepare random initial state\n",
    "circuit.ry(pi/3, q[0])\n",
    "circuit.ry(pi/5, q[1])\n",
    "circuit.ry(pi/7, q[2])\n",
    "circuit.draw()"
   ]
  },
  {
   "cell_type": "code",
   "execution_count": 16,
   "id": "70c1f536",
   "metadata": {},
   "outputs": [
    {
     "name": "stdout",
     "output_type": "stream",
     "text": [
      "Statevector([0.80298875+0.j, 0.46360577+0.j, 0.26090686+0.j,\n",
      "             0.15063465+0.j, 0.18327694+0.j, 0.10581499+0.j,\n",
      "             0.05955029+0.j, 0.03438138+0.j, 0.        +0.j,\n",
      "             0.        +0.j, 0.        +0.j, 0.        +0.j,\n",
      "             0.        +0.j, 0.        +0.j, 0.        +0.j,\n",
      "             0.        +0.j],\n",
      "            dims=(2, 2, 2, 2))\n"
     ]
    }
   ],
   "source": [
    "simulator = Aer.get_backend('statevector_simulator')\n",
    "job = execute(circuit, simulator)\n",
    "result = job.result()\n",
    "statevector = result.get_statevector()\n",
    "print(statevector)"
   ]
  },
  {
   "cell_type": "code",
   "execution_count": 17,
   "id": "1df3c81a",
   "metadata": {},
   "outputs": [
    {
     "data": {
      "text/html": [
       "<pre style=\"word-wrap: normal;white-space: pre;background: #fff0;line-height: 1.1;font-family: &quot;Courier New&quot;,Courier,monospace\">      ┌─────────┐┌───┐     ┌───┐     \n",
       "q0_0: ┤ Ry(π/3) ├┤ X ├──■──┤ X ├─────\n",
       "      ├─────────┤└───┘  │  └───┘     \n",
       "q0_1: ┤ Ry(π/5) ├───────■────────────\n",
       "      ├─────────┤       │            \n",
       "q0_2: ┤ Ry(π/7) ├───────■────────────\n",
       "      └──┬───┬──┘┌───┐┌─┴─┐┌───┐┌───┐\n",
       "q0_3: ───┤ X ├───┤ H ├┤ X ├┤ H ├┤ X ├\n",
       "         └───┘   └───┘└───┘└───┘└───┘\n",
       "c0: 4/═══════════════════════════════\n",
       "                                     </pre>"
      ],
      "text/plain": [
       "      ┌─────────┐┌───┐     ┌───┐     \n",
       "q0_0: ┤ Ry(π/3) ├┤ X ├──■──┤ X ├─────\n",
       "      ├─────────┤└───┘  │  └───┘     \n",
       "q0_1: ┤ Ry(π/5) ├───────■────────────\n",
       "      ├─────────┤       │            \n",
       "q0_2: ┤ Ry(π/7) ├───────■────────────\n",
       "      └──┬───┬──┘┌───┐┌─┴─┐┌───┐┌───┐\n",
       "q0_3: ───┤ X ├───┤ H ├┤ X ├┤ H ├┤ X ├\n",
       "         └───┘   └───┘└───┘└───┘└───┘\n",
       "c0: 4/═══════════════════════════════\n",
       "                                     "
      ]
     },
     "execution_count": 17,
     "metadata": {},
     "output_type": "execute_result"
    }
   ],
   "source": [
    "circuit.x(3)\n",
    "circuit.h(3)\n",
    "circuit.x(0)\n",
    "circuit.mct(list(range(3)), 3)\n",
    "circuit.x(0)\n",
    "circuit.h(3)\n",
    "circuit.x(3)\n",
    "circuit.draw()"
   ]
  },
  {
   "cell_type": "code",
   "execution_count": 18,
   "id": "b126791a",
   "metadata": {},
   "outputs": [
    {
     "name": "stdout",
     "output_type": "stream",
     "text": [
      "Statevector([ 8.02988752e-01+4.91688802e-17j,\n",
      "              4.63605772e-01+2.83876662e-17j,\n",
      "              2.60906861e-01+1.59759376e-17j,\n",
      "              1.50634647e-01+9.22371189e-18j,\n",
      "              1.83276943e-01+1.12224761e-17j,\n",
      "              1.05814992e-01+6.47929957e-18j,\n",
      "             -5.95502885e-02-3.64640351e-18j,\n",
      "              3.43813751e-02+2.10525205e-18j,\n",
      "              2.65293038e-17-4.91688802e-17j,\n",
      "              7.94526005e-18-2.83876662e-17j,\n",
      "              1.03796933e-17-1.59759376e-17j,\n",
      "              3.15210512e-19-9.22371189e-18j,\n",
      "             -2.71976820e-18-1.12224761e-17j,\n",
      "             -1.46198164e-18-6.47929957e-18j,\n",
      "              5.59293268e-19-3.64640351e-18j,\n",
      "              1.07454256e-18-2.10525205e-18j],\n",
      "            dims=(2, 2, 2, 2))\n"
     ]
    }
   ],
   "source": [
    "simulator = Aer.get_backend('statevector_simulator')\n",
    "job = execute(circuit, simulator)\n",
    "result = job.result()\n",
    "statevector = result.get_statevector()\n",
    "print(statevector)"
   ]
  },
  {
   "cell_type": "code",
   "execution_count": null,
   "id": "4541b399",
   "metadata": {},
   "outputs": [],
   "source": []
  }
 ],
 "metadata": {
  "kernelspec": {
   "display_name": "Python 3 (ipykernel)",
   "language": "python",
   "name": "python3"
  },
  "language_info": {
   "codemirror_mode": {
    "name": "ipython",
    "version": 3
   },
   "file_extension": ".py",
   "mimetype": "text/x-python",
   "name": "python",
   "nbconvert_exporter": "python",
   "pygments_lexer": "ipython3",
   "version": "3.11.4"
  }
 },
 "nbformat": 4,
 "nbformat_minor": 5
}
